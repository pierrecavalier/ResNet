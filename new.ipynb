{
 "cells": [
  {
   "cell_type": "markdown",
   "metadata": {},
   "source": [
    "# Data Preparation"
   ]
  },
  {
   "cell_type": "code",
   "execution_count": 34,
   "metadata": {},
   "outputs": [],
   "source": [
    "import torch\n",
    "from torch import nn\n",
    "import torch.nn.functional as F\n",
    "from torch.utils.data import DataLoader\n",
    "from torchvision import datasets\n",
    "from torchvision.transforms import ToTensor, Lambda\n",
    "import matplotlib.pyplot as plt\n",
    "import numpy as np\n",
    "\n",
    "training_data = datasets.FashionMNIST(\n",
    "    root=\"data\",\n",
    "    train=True,\n",
    "    download=True,\n",
    "    transform=ToTensor()\n",
    ")\n",
    "\n",
    "test_data = datasets.FashionMNIST(\n",
    "    root=\"data\",\n",
    "    train=False,\n",
    "    download=True,\n",
    "    transform=ToTensor()\n",
    ")"
   ]
  },
  {
   "cell_type": "markdown",
   "metadata": {},
   "source": [
    "### Defining a base neural network"
   ]
  },
  {
   "cell_type": "code",
   "execution_count": 35,
   "metadata": {},
   "outputs": [],
   "source": [
    "class BaseNeuralNetwork(nn.Module):\n",
    "    def __init__(self):\n",
    "        super(BaseNeuralNetwork, self).__init__()\n",
    "        # Flatten inputs\n",
    "        #self.flatten = nn.Flatten()\n",
    "\n",
    "        self.linear_relu_stack = nn.Sequential(\n",
    "            nn.Conv2d(1, 32, 3),\n",
    "            nn.ReLU(),\n",
    "            nn.Linear(26,416), \n",
    "            nn.ReLU(),\n",
    "        )\n",
    "\n",
    "    def forward(self, x):\n",
    "        #x = self.flatten(x)\n",
    "        logits = self.linear_relu_stack(x)\n",
    "        return logits\n",
    "\n",
    "model = BaseNeuralNetwork()"
   ]
  },
  {
   "cell_type": "code",
   "execution_count": 102,
   "metadata": {},
   "outputs": [],
   "source": [
    "class BaseNeuralNetwork(nn.Module):\n",
    "    def __init__(self):\n",
    "        super(BaseNeuralNetwork, self).__init__()\n",
    "        # Flatten inputs\n",
    "        self.flatten = nn.Flatten()\n",
    "\n",
    "        self.linear_relu_stack = nn.Sequential(\n",
    "                nn.Linear(28 * 28, 512),\n",
    "                nn.ReLU(),\n",
    "                nn.Linear(512,256),\n",
    "                nn.ReLU(),\n",
    "                nn.Linear(256,128),\n",
    "                nn.ReLU(),\n",
    "                nn.Linear(128,64),\n",
    "                nn.ReLU(),\n",
    "                nn.Linear(64,32),\n",
    "                nn.ReLU(),\n",
    "                nn.Linear(32,16),\n",
    "                nn.ReLU(),\n",
    "                nn.Linear(16,10)\n",
    "            \n",
    "        )\n",
    "\n",
    "    def forward(self, x):\n",
    "        x = self.flatten(x)\n",
    "        logits = self.linear_relu_stack(x)\n",
    "        return logits\n",
    "\n",
    "model = BaseNeuralNetwork()"
   ]
  },
  {
   "cell_type": "code",
   "execution_count": 163,
   "metadata": {},
   "outputs": [],
   "source": [
    "def train_loop(dataloader, model, loss_fn, optimizer, prin = False):\n",
    "    size = len(dataloader.dataset)\n",
    "    for batch, (X, y) in enumerate(dataloader):\n",
    "        # Compute prediction and loss\n",
    "        pred = model(X)\n",
    "        loss = loss_fn(pred, y)\n",
    "\n",
    "        # Backpropagation (always in three steps)\n",
    "        optimizer.zero_grad()\n",
    "        loss.backward()\n",
    "        optimizer.step()\n",
    "\n",
    "        if batch % 100 == 0 and prin:\n",
    "            loss, current = loss.item(), batch * len(X)\n",
    "            print(f\"loss: {loss:>7f}  [{current:>5d}/{size:>5d}]\")\n",
    "\n",
    "\n",
    "def test_loop(dataloader, model, loss_fn):\n",
    "    size = len(dataloader.dataset)\n",
    "    num_batches = len(dataloader)\n",
    "    test_loss, correct = 0, 0\n",
    "\n",
    "    with torch.no_grad():\n",
    "        for X, y in dataloader:\n",
    "            pred = model(X)\n",
    "            test_loss += loss_fn(pred, y).item()\n",
    "            correct += (pred.argmax(1) == y).type(torch.float).sum().item()\n",
    "\n",
    "    test_loss /= num_batches\n",
    "    correct /= size\n",
    "    print(f\"Test Error: \\n Accuracy: {(100*correct):>0.1f}%, Avg loss: {test_loss:>8f}\")\n",
    "    return 100*(1-correct)"
   ]
  },
  {
   "attachments": {},
   "cell_type": "markdown",
   "metadata": {},
   "source": [
    "### Learning"
   ]
  },
  {
   "cell_type": "code",
   "execution_count": 104,
   "metadata": {},
   "outputs": [],
   "source": [
    "# Hyperparameters\n",
    "learning_rate = 0.001\n",
    "batch_size = 256\n",
    "epochs = 10\n",
    "loss_fn = nn.CrossEntropyLoss()\n",
    "optimizer = torch.optim.Adam(model.parameters(), lr = learning_rate)"
   ]
  },
  {
   "cell_type": "code",
   "execution_count": 105,
   "metadata": {},
   "outputs": [],
   "source": [
    "train_dataloader = DataLoader(training_data, batch_size=batch_size)\n",
    "test_dataloader = DataLoader(test_data, batch_size=batch_size)"
   ]
  },
  {
   "cell_type": "code",
   "execution_count": 106,
   "metadata": {},
   "outputs": [
    {
     "name": "stdout",
     "output_type": "stream",
     "text": [
      "Epoch 1-----------------\n",
      "Test Error: \n",
      " Accuracy: 79.7%, Avg loss: 0.563955\n",
      "Epoch 2-----------------\n",
      "Test Error: \n",
      " Accuracy: 83.4%, Avg loss: 0.470518\n",
      "Epoch 3-----------------\n",
      "Test Error: \n",
      " Accuracy: 84.4%, Avg loss: 0.433033\n",
      "Epoch 4-----------------\n",
      "Test Error: \n",
      " Accuracy: 85.2%, Avg loss: 0.406194\n",
      "Epoch 5-----------------\n",
      "Test Error: \n",
      " Accuracy: 86.0%, Avg loss: 0.389415\n",
      "Epoch 6-----------------\n",
      "Test Error: \n",
      " Accuracy: 86.6%, Avg loss: 0.375461\n",
      "Epoch 7-----------------\n",
      "Test Error: \n",
      " Accuracy: 86.9%, Avg loss: 0.370210\n",
      "Epoch 8-----------------\n",
      "Test Error: \n",
      " Accuracy: 86.6%, Avg loss: 0.382567\n",
      "Epoch 9-----------------\n",
      "Test Error: \n",
      " Accuracy: 87.0%, Avg loss: 0.367546\n",
      "Epoch 10-----------------\n",
      "Test Error: \n",
      " Accuracy: 87.3%, Avg loss: 0.360022\n",
      "Done!\n"
     ]
    }
   ],
   "source": [
    "### Training\n",
    "error = []\n",
    "for t in range(epochs):\n",
    "    print(f\"Epoch {t+1}-----------------\")\n",
    "    #Use train_loop and test_loop functions\n",
    "    train_loop(train_dataloader, model, loss_fn, optimizer)\n",
    "    x = test_loop(test_dataloader, model, loss_fn)\n",
    "    error.append(x)\n",
    "print(\"Done!\")\n"
   ]
  },
  {
   "cell_type": "code",
   "execution_count": 107,
   "metadata": {},
   "outputs": [],
   "source": [
    "class BaseNeuralNetworkRS(nn.Module):\n",
    "    def __init__(self):\n",
    "        super(BaseNeuralNetworkRS, self).__init__()\n",
    "        # Flatten inputs\n",
    "        self.flatten = nn.Flatten()\n",
    "\n",
    "        self.relu = nn.ReLU()\n",
    "\n",
    "        self.start = nn.Linear(28 * 28, 512)\n",
    "        self.lin1 = nn.Linear(512,256)\n",
    "        self.lin2 = nn.Linear(256,128)\n",
    "        self.lin3 = nn.Linear(128,64)\n",
    "        self.lin4 = nn.Linear(64,32)\n",
    "        self.lin5 = nn.Linear(32,16)\n",
    "        self.fc = nn.Linear(16,10)\n",
    "        \n",
    "    def proj(self, x, size):\n",
    "        indice = np.linspace(0, size - 1, size).tolist()\n",
    "        indice = torch.tensor([int(x) for x in indice])\n",
    "        \n",
    "        return torch.index_select(x, 1, indice)\n",
    "\n",
    "\n",
    "    def forward(self, x):\n",
    "        x = self.flatten(x)\n",
    "        f = 0\n",
    "        x = self.relu(self.start(x)) + f*self.proj(x, 512)\n",
    "        x = self.relu(self.lin1(x)) + f*self.proj(x, 256)\n",
    "        x = self.relu(self.lin2(x)) + f*self.proj(x, 128)\n",
    "        x = self.relu(self.lin3(x)) + f*self.proj(x, 64)\n",
    "        x = self.relu(self.lin4(x)) + f*self.proj(x, 32)\n",
    "        x = self.relu(self.lin5(x)) + f*self.proj(x, 16)\n",
    "        x = self.relu(self.fc(x))\n",
    "\n",
    "        return x\n",
    "\n",
    "modelRS = BaseNeuralNetworkRS()"
   ]
  },
  {
   "cell_type": "code",
   "execution_count": 108,
   "metadata": {},
   "outputs": [
    {
     "name": "stdout",
     "output_type": "stream",
     "text": [
      "Epoch 1-----------------\n",
      "Test Error: \n",
      " Accuracy: 76.7%, Avg loss: 0.782022\n",
      "Epoch 2-----------------\n",
      "Test Error: \n",
      " Accuracy: 76.7%, Avg loss: 0.782022\n",
      "Epoch 3-----------------\n",
      "Test Error: \n",
      " Accuracy: 76.7%, Avg loss: 0.782022\n",
      "Epoch 4-----------------\n",
      "Test Error: \n",
      " Accuracy: 76.7%, Avg loss: 0.782022\n",
      "Epoch 5-----------------\n",
      "Test Error: \n",
      " Accuracy: 76.7%, Avg loss: 0.782022\n",
      "Epoch 6-----------------\n",
      "Test Error: \n",
      " Accuracy: 76.7%, Avg loss: 0.782022\n",
      "Epoch 7-----------------\n",
      "Test Error: \n",
      " Accuracy: 76.7%, Avg loss: 0.782022\n",
      "Epoch 8-----------------\n",
      "Test Error: \n",
      " Accuracy: 76.7%, Avg loss: 0.782022\n",
      "Epoch 9-----------------\n",
      "Test Error: \n",
      " Accuracy: 76.7%, Avg loss: 0.782022\n",
      "Epoch 10-----------------\n",
      "Test Error: \n",
      " Accuracy: 76.7%, Avg loss: 0.782022\n",
      "Done!\n"
     ]
    }
   ],
   "source": [
    "### Training\n",
    "error = []\n",
    "for t in range(epochs):\n",
    "    print(f\"Epoch {t+1}-----------------\")\n",
    "    #Use train_loop and test_loop functions\n",
    "    train_loop(train_dataloader, modelRS, loss_fn, optimizer)\n",
    "    x = test_loop(test_dataloader, model, loss_fn)\n",
    "    error.append(x)\n",
    "print(\"Done!\")\n"
   ]
  },
  {
   "cell_type": "code",
   "execution_count": 60,
   "metadata": {},
   "outputs": [
    {
     "name": "stdout",
     "output_type": "stream",
     "text": [
      "[24.750000000000007, 17.830000000000002, 15.239999999999998, 14.459999999999996, 14.359999999999996, 13.81, 13.770000000000005, 13.090000000000002, 12.9, 12.490000000000002]\n"
     ]
    },
    {
     "data": {
      "image/png": "[encoded data removed]",
      "text/plain": [
       "<Figure size 432x288 with 1 Axes>"
      ]
     },
     "metadata": {
      "needs_background": "light"
     },
     "output_type": "display_data"
    }
   ],
   "source": [
    "import copy\n",
    "\n",
    "error_wo = copy.deepcopy(error)\n",
    "\n",
    "plt.plot(error_wo, label = \"w/o RS\")\n",
    "plt.legend()\n",
    "plt.title(\"% error per batch\")\n",
    "plt.ylim((0, 40))\n",
    "plt.show()"
   ]
  },
  {
   "attachments": {},
   "cell_type": "markdown",
   "metadata": {},
   "source": [
    "Using Conv2D"
   ]
  },
  {
   "cell_type": "code",
   "execution_count": 206,
   "metadata": {},
   "outputs": [],
   "source": [
    "class BaseNeuralNetwork(nn.Module):\n",
    "    def __init__(self):\n",
    "        super(BaseNeuralNetwork, self).__init__()\n",
    "        #self.flatten = nn.Flatten() # Flatten inputs\n",
    "        self.conv_stack = nn.Sequential(\n",
    "            nn.Conv2d(\n",
    "                in_channels=1,              \n",
    "                out_channels=16,            \n",
    "                kernel_size=5,              \n",
    "                stride=1,                   \n",
    "                padding=2,                  \n",
    "            ),                              \n",
    "            nn.ReLU(),                           \n",
    "            nn.Conv2d(\n",
    "                in_channels=16,              \n",
    "                out_channels=32,            \n",
    "                kernel_size=5,              \n",
    "                stride=1,                   \n",
    "                padding=2, ),     \n",
    "            nn.ReLU(),                                     \n",
    "        )\n",
    "\n",
    "        self.output_stack = nn.Sequential(\n",
    "            nn.Linear(32 * 28 * 28, 10)\n",
    "        )\n",
    "\n",
    "    def forward(self, x):\n",
    "        #x = self.flatten(x)\n",
    "        logits = self.conv_stack(x) \n",
    "        # flatten the output of conv2 to (batch_size, 32 * 7 * 7)\n",
    "        logits = logits.view(logits.size(0), -1)\n",
    "        logits = self.output_stack(logits)\n",
    "        return logits\n",
    "\n",
    "model = BaseNeuralNetwork()\n",
    "\n"
   ]
  },
  {
   "cell_type": "code",
   "execution_count": 136,
   "metadata": {},
   "outputs": [],
   "source": [
    "learning_rate = 1e-3\n",
    "batch_size = 64\n",
    "epochs = 5\n",
    "loss_fn = nn.CrossEntropyLoss()\n",
    "optimizer = torch.optim.Adam(model.parameters(), lr=learning_rate)"
   ]
  },
  {
   "cell_type": "code",
   "execution_count": 207,
   "metadata": {},
   "outputs": [
    {
     "name": "stdout",
     "output_type": "stream",
     "text": [
      "Epoch 1-----------------\n",
      "loss: 2.300387  [    0/60000]\n",
      "loss: 0.330322  [25600/60000]\n",
      "loss: 0.329241  [51200/60000]\n",
      "Test Error: \n",
      " Accuracy: 87.5%, Avg loss: 0.345539\n",
      "Epoch 2-----------------\n",
      "loss: 0.275289  [    0/60000]\n",
      "loss: 0.269909  [25600/60000]\n",
      "loss: 0.243078  [51200/60000]\n",
      "Test Error: \n",
      " Accuracy: 89.2%, Avg loss: 0.302817\n",
      "Epoch 3-----------------\n",
      "loss: 0.185699  [    0/60000]\n",
      "loss: 0.232983  [25600/60000]\n",
      "loss: 0.192686  [51200/60000]\n",
      "Test Error: \n",
      " Accuracy: 89.8%, Avg loss: 0.286924\n",
      "Epoch 4-----------------\n",
      "loss: 0.135113  [    0/60000]\n",
      "loss: 0.203886  [25600/60000]\n",
      "loss: 0.151900  [51200/60000]\n",
      "Test Error: \n",
      " Accuracy: 90.2%, Avg loss: 0.279495\n",
      "Epoch 5-----------------\n",
      "loss: 0.100060  [    0/60000]\n",
      "loss: 0.186171  [25600/60000]\n",
      "loss: 0.126516  [51200/60000]\n",
      "Test Error: \n",
      " Accuracy: 90.1%, Avg loss: 0.279829\n",
      "Epoch 6-----------------\n",
      "loss: 0.080773  [    0/60000]\n",
      "loss: 0.170438  [25600/60000]\n",
      "loss: 0.110165  [51200/60000]\n",
      "Test Error: \n",
      " Accuracy: 90.1%, Avg loss: 0.287763\n",
      "Epoch 7-----------------\n",
      "loss: 0.068867  [    0/60000]\n",
      "loss: 0.153841  [25600/60000]\n",
      "loss: 0.110740  [51200/60000]\n",
      "Test Error: \n",
      " Accuracy: 90.5%, Avg loss: 0.291258\n",
      "Epoch 8-----------------\n",
      "loss: 0.057316  [    0/60000]\n",
      "loss: 0.141716  [25600/60000]\n",
      "loss: 0.102374  [51200/60000]\n",
      "Test Error: \n",
      " Accuracy: 90.3%, Avg loss: 0.293854\n",
      "Epoch 9-----------------\n",
      "loss: 0.048601  [    0/60000]\n",
      "loss: 0.133485  [25600/60000]\n",
      "loss: 0.086467  [51200/60000]\n",
      "Test Error: \n",
      " Accuracy: 90.4%, Avg loss: 0.296571\n",
      "Epoch 10-----------------\n",
      "loss: 0.043056  [    0/60000]\n",
      "loss: 0.128555  [25600/60000]\n",
      "loss: 0.082706  [51200/60000]\n",
      "Test Error: \n",
      " Accuracy: 90.6%, Avg loss: 0.302989\n",
      "Done!\n"
     ]
    }
   ],
   "source": [
    "### Training\n",
    "error_wo = []\n",
    "for t in range(epochs):\n",
    "    print(f\"Epoch {t+1}-----------------\")\n",
    "    #Use train_loop and test_loop functions\n",
    "    learning_rate = 0.01/(t+1)\n",
    "    optimizer = torch.optim.Adam(model.parameters(), lr = learning_rate)\n",
    "    train_loop(train_dataloader, model, loss_fn, optimizer, prin = True)\n",
    "    x = test_loop(test_dataloader, model, loss_fn)\n",
    "    error_wo.append(x)\n",
    "print(\"Done!\")\n"
   ]
  },
  {
   "attachments": {},
   "cell_type": "markdown",
   "metadata": {},
   "source": [
    "Trying RS\n"
   ]
  },
  {
   "cell_type": "code",
   "execution_count": 201,
   "metadata": {},
   "outputs": [],
   "source": [
    "class BaseNeuralNetwork(nn.Module):\n",
    "    def __init__(self):\n",
    "        super(BaseNeuralNetwork, self).__init__()\n",
    "        #self.flatten = nn.Flatten() # Flatten inputs\n",
    "        self.conv_stack = nn.Sequential(\n",
    "            nn.Conv2d(\n",
    "                in_channels=1,              \n",
    "                out_channels=16,            \n",
    "                kernel_size=5,              \n",
    "                stride=1,                   \n",
    "                padding=2,                  \n",
    "            ),                              \n",
    "            nn.ReLU(),                           \n",
    "            nn.Conv2d(\n",
    "                in_channels=16,              \n",
    "                out_channels=32,            \n",
    "                kernel_size=5,              \n",
    "                stride=1,                   \n",
    "                padding=2, ),                                     \n",
    "        )\n",
    "\n",
    "        self.output_stack = nn.Sequential(\n",
    "            nn.Linear(32 * 28 * 28, 10)\n",
    "        )\n",
    "\n",
    "    def proj(self, x, size):\n",
    "        indice = np.linspace(0, size - 1, size).tolist()\n",
    "        indice = torch.tensor([int(x) for x in indice])\n",
    "        res = torch.index_select(x, 3, indice)\n",
    "        res = torch.index_select(res, 2, indice)\n",
    "        return res\n",
    "\n",
    "    def forward(self, x):\n",
    "        #x = self.flatten(x)\n",
    "\n",
    "        logits = self.conv_stack(x) + x\n",
    "        # flatten the output of conv2 to (batch_size, 32 * 7 * 7)\n",
    "        logits = logits.view(logits.size(0), -1)\n",
    "        logits = self.output_stack(logits)\n",
    "        return logits\n",
    "\n",
    "model = BaseNeuralNetwork()\n",
    "\n"
   ]
  },
  {
   "cell_type": "code",
   "execution_count": 202,
   "metadata": {},
   "outputs": [],
   "source": [
    "# Hyperparameters\n",
    "learning_rate = 0.01\n",
    "batch_size = 256\n",
    "epochs = 10\n",
    "loss_fn = nn.CrossEntropyLoss()\n",
    "optimizer = torch.optim.Adam(model.parameters(), lr = learning_rate)"
   ]
  },
  {
   "cell_type": "code",
   "execution_count": 203,
   "metadata": {},
   "outputs": [
    {
     "name": "stdout",
     "output_type": "stream",
     "text": [
      "Epoch 1-----------------\n",
      "loss: 2.379060  [    0/60000]\n",
      "loss: 0.907272  [25600/60000]\n",
      "loss: 0.694651  [51200/60000]\n",
      "Test Error: \n",
      " Accuracy: 80.8%, Avg loss: 0.789519\n",
      "Epoch 2-----------------\n",
      "loss: 0.750633  [    0/60000]\n",
      "loss: 0.637622  [25600/60000]\n",
      "loss: 0.648334  [51200/60000]\n",
      "Test Error: \n",
      " Accuracy: 81.9%, Avg loss: 0.613266\n",
      "Epoch 3-----------------\n",
      "loss: 0.528052  [    0/60000]\n",
      "loss: 0.550186  [25600/60000]\n",
      "loss: 0.403670  [51200/60000]\n",
      "Test Error: \n",
      " Accuracy: 84.9%, Avg loss: 0.479370\n",
      "Epoch 4-----------------\n",
      "loss: 0.336317  [    0/60000]\n",
      "loss: 0.372423  [25600/60000]\n",
      "loss: 0.287402  [51200/60000]\n",
      "Test Error: \n",
      " Accuracy: 86.9%, Avg loss: 0.398178\n",
      "Epoch 5-----------------\n",
      "loss: 0.226613  [    0/60000]\n",
      "loss: 0.267910  [25600/60000]\n",
      "loss: 0.272990  [51200/60000]\n",
      "Test Error: \n",
      " Accuracy: 86.4%, Avg loss: 0.405756\n",
      "Epoch 6-----------------\n",
      "loss: 0.201502  [    0/60000]\n",
      "loss: 0.245829  [25600/60000]\n",
      "loss: 0.281266  [51200/60000]\n",
      "Test Error: \n",
      " Accuracy: 87.5%, Avg loss: 0.385216\n",
      "Epoch 7-----------------\n",
      "loss: 0.152557  [    0/60000]\n",
      "loss: 0.227615  [25600/60000]\n",
      "loss: 0.206704  [51200/60000]\n",
      "Test Error: \n",
      " Accuracy: 87.6%, Avg loss: 0.379078\n",
      "Epoch 8-----------------\n",
      "loss: 0.137445  [    0/60000]\n",
      "loss: 0.213937  [25600/60000]\n",
      "loss: 0.181733  [51200/60000]\n",
      "Test Error: \n",
      " Accuracy: 88.3%, Avg loss: 0.361322\n",
      "Epoch 9-----------------\n",
      "loss: 0.100978  [    0/60000]\n",
      "loss: 0.200710  [25600/60000]\n",
      "loss: 0.176762  [51200/60000]\n",
      "Test Error: \n",
      " Accuracy: 88.5%, Avg loss: 0.367831\n",
      "Epoch 10-----------------\n",
      "loss: 0.086053  [    0/60000]\n",
      "loss: 0.187592  [25600/60000]\n",
      "loss: 0.163442  [51200/60000]\n",
      "Test Error: \n",
      " Accuracy: 88.5%, Avg loss: 0.375745\n",
      "Done!\n"
     ]
    }
   ],
   "source": [
    "### Training\n",
    "error_w = []\n",
    "for t in range(epochs):\n",
    "    print(f\"Epoch {t+1}-----------------\")\n",
    "    #Use train_loop and test_loop functions\n",
    "    learning_rate = 0.01/(t+1)\n",
    "    optimizer = torch.optim.Adam(model.parameters(), lr = learning_rate)\n",
    "    train_loop(train_dataloader, model, loss_fn, optimizer, prin = True)\n",
    "    x = test_loop(test_dataloader, model, loss_fn)\n",
    "    error_w.append(x)\n",
    "print(\"Done!\")\n"
   ]
  },
  {
   "cell_type": "code",
   "execution_count": 204,
   "metadata": {},
   "outputs": [],
   "source": [
    "error_w = copy.deepcopy(error)"
   ]
  },
  {
   "attachments": {},
   "cell_type": "markdown",
   "metadata": {},
   "source": [
    "Plotting results"
   ]
  },
  {
   "cell_type": "code",
   "execution_count": 208,
   "metadata": {},
   "outputs": [
    {
     "data": {
      "image/png": "[encoded data removed]",
      "text/plain": [
       "<Figure size 432x288 with 1 Axes>"
      ]
     },
     "metadata": {
      "needs_background": "light"
     },
     "output_type": "display_data"
    }
   ],
   "source": [
    "plt.plot(error_wo, label = \"w/o RS\")\n",
    "plt.plot(error_w, label = \"w RS\")\n",
    "plt.legend()\n",
    "plt.title(\"% error per batch\")\n",
    "plt.ylim((0, 40))\n",
    "plt.show()"
   ]
  }
 ],
 "metadata": {
  "kernelspec": {
   "display_name": "base",
   "language": "python",
   "name": "python3"
  },
  "language_info": {
   "codemirror_mode": {
    "name": "ipython",
    "version": 3
   },
   "file_extension": ".py",
   "mimetype": "text/x-python",
   "name": "python",
   "nbconvert_exporter": "python",
   "pygments_lexer": "ipython3",
   "version": "3.8.8"
  },
  "orig_nbformat": 4,
  "vscode": {
   "interpreter": {
    "hash": "940e34ce3f8e8fda083b4ce6ce11a66042581662800fc131ee85ee96d7946fe9"
   }
  }
 },
 "nbformat": 4,
 "nbformat_minor": 2
}
