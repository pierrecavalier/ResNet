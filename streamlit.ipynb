{
 "cells": [
  {
   "cell_type": "code",
   "execution_count": 21,
   "metadata": {},
   "outputs": [],
   "source": [
    "from models import ResNet8, ResNet14, ResNet20, CNN8, CNN14, CNN20\n",
    "from train_test_functions import training, testing\n",
    "from torch.utils.data import DataLoader, Subset\n",
    "from train_test_functions import global_loop\n",
    "from torch import nn\n",
    "import numpy as np \n",
    "import matplotlib.pyplot as plt\n",
    "import torch"
   ]
  },
  {
   "cell_type": "code",
   "execution_count": 3,
   "metadata": {},
   "outputs": [],
   "source": [
    "def get_model(selected_model, model_type):\n",
    "    if selected_model == 8 and model_type == 'ResNet':\n",
    "        model = ResNet8()\n",
    "\n",
    "    elif selected_model == 14 and model_type == 'ResNet':\n",
    "        model = ResNet14()\n",
    "\n",
    "    elif selected_model == 20 and model_type == 'ResNet':\n",
    "        model = ResNet20()\n",
    "\n",
    "    elif selected_model == 8 and model_type == 'CNN':\n",
    "        model = CNN8()\n",
    "\n",
    "    elif selected_model == 14 and model_type == 'CNN':\n",
    "        model = CNN14()\n",
    "\n",
    "    elif selected_model == 20 and model_type == 'CNN':\n",
    "        model = CNN20()"
   ]
  },
  {
   "cell_type": "code",
   "execution_count": 12,
   "metadata": {},
   "outputs": [],
   "source": [
    "from torchvision import datasets, transforms\n",
    "\n",
    "def LoadCIFAR10_subset(batch_size, subset):\n",
    "    \"\"\"\n",
    "    Load CIFAR10 dataset\n",
    "    Parameters\n",
    "    -----------\n",
    "    batch-size : int\n",
    "                 batch-size for mini batch wanted\n",
    "\n",
    "    subset : int\n",
    "                size of the subset\n",
    "    Returns \n",
    "    -----------\n",
    "    Dataloaders\n",
    "        subset of train dataset and test dataset\n",
    "    \"\"\"\n",
    "\n",
    "    transform = transforms.Compose(\n",
    "        [transforms.ToTensor(),\n",
    "         transforms.Normalize((0.5, 0.5, 0.5), (0.5, 0.5, 0.5))])\n",
    "\n",
    "    training_data = datasets.CIFAR10(\n",
    "        root=\"data\",\n",
    "        train=True,\n",
    "        download=True,\n",
    "        transform=transform\n",
    "    )\n",
    "\n",
    "    test_data = datasets.CIFAR10(\n",
    "        root=\"data\",\n",
    "        train=False,\n",
    "        download=True,\n",
    "        transform=transform\n",
    "    )\n",
    "\n",
    "    subset_indices = range(5000)   # indices of the subset\n",
    "    train_subset = Subset(training_data, subset_indices)\n",
    "\n",
    "    # create a dataloader for the subset\n",
    "    train = DataLoader(train_subset, batch_size=batch_size, shuffle=True)\n",
    "    test = DataLoader(test_data, batch_size=batch_size, shuffle=True)\n",
    "\n",
    "    return train, test"
   ]
  },
  {
   "cell_type": "code",
   "execution_count": 22,
   "metadata": {},
   "outputs": [
    {
     "name": "stdout",
     "output_type": "stream",
     "text": [
      "Files already downloaded and verified\n",
      "Files already downloaded and verified\n",
      "ResNet8 --- Epoch 1/10 --- train loss : 1.85 | train acc : 0.33 | test loss : 1.65 | test acc 0.4 | time spent 25.44\n",
      "ResNet8 --- Epoch 2/10 --- train loss : 1.57 | train acc : 0.42 | test loss : 1.49 | test acc 0.46 | time spent 25.02\n",
      "ResNet8 --- Epoch 3/10 --- train loss : 1.41 | train acc : 0.48 | test loss : 1.38 | test acc 0.51 | time spent 24.94\n",
      "ResNet8 --- Epoch 4/10 --- train loss : 1.3 | train acc : 0.53 | test loss : 1.35 | test acc 0.52 | time spent 24.85\n",
      "ResNet8 --- Epoch 5/10 --- train loss : 1.23 | train acc : 0.56 | test loss : 1.3 | test acc 0.53 | time spent 25.08\n",
      "ResNet8 --- Epoch 6/10 --- train loss : 1.15 | train acc : 0.59 | test loss : 1.26 | test acc 0.54 | time spent 24.88\n",
      "ResNet8 --- Epoch 7/10 --- train loss : 1.07 | train acc : 0.62 | test loss : 1.22 | test acc 0.56 | time spent 24.88\n",
      "ResNet8 --- Epoch 8/10 --- train loss : 1.02 | train acc : 0.64 | test loss : 1.19 | test acc 0.57 | time spent 26.04\n",
      "ResNet8 --- Epoch 9/10 --- train loss : 0.95 | train acc : 0.67 | test loss : 1.19 | test acc 0.57 | time spent 28.47\n",
      "ResNet8 --- Epoch 10/10 --- train loss : 0.86 | train acc : 0.69 | test loss : 1.2 | test acc 0.58 | time spent 26.38\n"
     ]
    },
    {
     "data": {
      "image/png": "[encoded data removed]",
      "text/plain": [
       "<Figure size 432x288 with 1 Axes>"
      ]
     },
     "metadata": {
      "needs_background": "light"
     },
     "output_type": "display_data"
    }
   ],
   "source": [
    "import time\n",
    "\n",
    "train, test = LoadCIFAR10_subset(batch_size=32, subset=5000)\n",
    "\n",
    "model = ResNet8()\n",
    "model_name = \"ResNet8\"\n",
    "\n",
    "criterion = nn.CrossEntropyLoss()\n",
    "optimizer = torch.optim.Adam(model.parameters())\n",
    "\n",
    "EPOCHS = 10\n",
    "\n",
    "to_plot = []\n",
    "\n",
    "for epoch in range(EPOCHS):\n",
    "    start_time = time.time()\n",
    "\n",
    "\n",
    "    training_acc, training_loss = training(model, train, optimizer, criterion)\n",
    "    test_acc, test_loss = testing(model, test, criterion)\n",
    "\n",
    "    end_time = time.time()\n",
    "    diff_time = end_time - start_time\n",
    "\n",
    "    print(\"{} --- Epoch {}/{} --- train loss : {} | train acc : {} | test loss : {} | test acc {} | time spent {}s\" .format(\n",
    "        model_name, epoch+1, EPOCHS, np.round(training_loss, 2), np.round(training_acc, 2),\n",
    "        np.round(test_loss, 2), np.round(test_acc, 2), np.round(diff_time, 2)))\n",
    "    \n",
    "    to_plot.append(test_acc)\n",
    "\n",
    "plt.plot(to_plot)\n",
    "plt.show()\n",
    "\n",
    "np.savetxt(\"./results/{}_acc.csv\".format(model_name),\n",
    "               to_plot, delimiter=\",\")\n",
    "\n"
   ]
  },
  {
   "cell_type": "code",
   "execution_count": null,
   "metadata": {},
   "outputs": [],
   "source": []
  }
 ],
 "metadata": {
  "kernelspec": {
   "display_name": "base",
   "language": "python",
   "name": "python3"
  },
  "language_info": {
   "codemirror_mode": {
    "name": "ipython",
    "version": 3
   },
   "file_extension": ".py",
   "mimetype": "text/x-python",
   "name": "python",
   "nbconvert_exporter": "python",
   "pygments_lexer": "ipython3",
   "version": "3.8.8"
  },
  "orig_nbformat": 4
 },
 "nbformat": 4,
 "nbformat_minor": 2
}
